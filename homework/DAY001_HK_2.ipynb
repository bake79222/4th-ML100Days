{
 "cells": [
  {
   "cell_type": "code",
   "execution_count": null,
   "metadata": {},
   "outputs": [],
   "source": [
    "DAY001_作業2\n",
    "選的資料參考來源為:https://www.kaggle.com/mistag/arthropod-taxonomy-orders-object-detection-dataset"
   ]
  },
  {
   "cell_type": "code",
   "execution_count": null,
   "metadata": {},
   "outputs": [],
   "source": [
    "1.你選的這組資料為何重要:這組所駔的主題分類為為圖像識別，這組是在做節肢動物、昆蟲、蜘蛛、甲殼類動物等等。這個主題可以辨別世界很多物種，對於昆蟲的辨別與分類有很大的幫助。可以減去專家辨別的時間以及錯誤的機率。"
   ]
  },
  {
   "cell_type": "code",
   "execution_count": null,
   "metadata": {},
   "outputs": [],
   "source": [
    "2. 資料從何而來 (tips: 譬如提供者是誰、以什麼方式蒐集):作者為:Geir Drange    蒐集方式:圖像最初都是根據知識共享許可發布的。在此數據集中，攝影師和/或來源嵌入在EXIF標籤中。圖像未經修改。"
   ]
  },
  {
   "cell_type": "code",
   "execution_count": null,
   "metadata": {},
   "outputs": [],
   "source": [
    "3. 蒐集而來的資料型態為何:圖片"
   ]
  },
  {
   "cell_type": "code",
   "execution_count": null,
   "metadata": {},
   "outputs": [],
   "source": [
    "4. 這組資料想解決的問題如何評估:靈感 物種識別是一個複雜的問題，而對象檢測是解決該問題的分級方法中自然而然的第一步。"
   ]
  }
 ],
 "metadata": {
  "kernelspec": {
   "display_name": "Python 3",
   "language": "python",
   "name": "python3"
  },
  "language_info": {
   "codemirror_mode": {
    "name": "ipython",
    "version": 3
   },
   "file_extension": ".py",
   "mimetype": "text/x-python",
   "name": "python",
   "nbconvert_exporter": "python",
   "pygments_lexer": "ipython3",
   "version": "3.7.3"
  }
 },
 "nbformat": 4,
 "nbformat_minor": 2
}
