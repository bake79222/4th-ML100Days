{
 "cells": [
  {
   "cell_type": "markdown",
   "metadata": {},
   "source": [
    "# 作業\n",
    "* 選擇分類資料集(右下)-螺旋雙臂 - 交錯六群，限定特徵只能使用前兩個，隱藏層 2 層滿 (共 8 * 2 =16 個神經元)，  \n",
    "  遞迴次數只允許跑到500次，但可以自由調整 批次大小、學習速率、啟動函數、正規化選項與參數\n",
    "* 在上述限制下，挑戰看看測試誤差 (Test Loss) 最低能到多少? 請回答你的上述幾項參數與 Test Loss 數"
   ]
  },
  {
   "cell_type": "markdown",
   "metadata": {
    "collapsed": true
   },
   "source": [
    "1.第一組參數 <br>\n",
    "Learning rate = 0.03  <br>\n",
    "Activation = Tanh <br>\n",
    "Regularization = None <br>\n",
    "Test loss 0.408 <br>\n",
    "Training loss 0.250 <br>"
   ]
  },
  {
   "cell_type": "markdown",
   "metadata": {},
   "source": [
    "2.第二組參數 <br>\n",
    "Learning rate = 0.1  <br>\n",
    "Activation = Tanh <br>\n",
    "Regularization = None <br>\n",
    "Test loss 0.106 <br>\n",
    "Training loss 0.012 <br>"
   ]
  },
  {
   "cell_type": "markdown",
   "metadata": {},
   "source": [
    "3.第三組參數 <br>\n",
    "Learning rate = 0.3  <br>\n",
    "Activation = Tanh <br>\n",
    "Regularization = None <br>\n",
    "Test loss 0.260 <br>\n",
    "Training loss 0.099 <br>"
   ]
  },
  {
   "cell_type": "markdown",
   "metadata": {},
   "source": [
    "4.第4組參數 <br>\n",
    "Learning rate = 1  <br>\n",
    "Activation = Tanh <br>\n",
    "Regularization = None <br>\n",
    "Test loss 0.525 <br>\n",
    "Training loss 0.457 <br>"
   ]
  },
  {
   "cell_type": "markdown",
   "metadata": {},
   "source": [
    "5.第5組參數 <br>\n",
    "Learning rate = 0.03  <br>\n",
    "Activation = Sigmoid <br>\n",
    "Regularization = None <br>\n",
    "Test loss 0.484 <br>\n",
    "Training loss 0.466 <br>"
   ]
  },
  {
   "cell_type": "markdown",
   "metadata": {},
   "source": [
    "6.第6組參數 <br>\n",
    "Learning rate = 0.1  <br>\n",
    "Activation = Sigmoid <br>\n",
    "Regularization = None <br>\n",
    "Test loss 0.491 <br>\n",
    "Training loss 0.458 <br>"
   ]
  },
  {
   "cell_type": "markdown",
   "metadata": {},
   "source": [
    "7.第7組參數 <br>\n",
    "Learning rate = 0.3  <br>\n",
    "Activation = Sigmoid <br>\n",
    "Regularization = None <br>\n",
    "Test loss 0.463 <br>\n",
    "Training loss 0.324 <br>"
   ]
  },
  {
   "cell_type": "markdown",
   "metadata": {},
   "source": [
    "8.第8組參數 <br>\n",
    "Learning rate = 1  <br>\n",
    "Activation = Sigmoid <br>\n",
    "Regularization = None <br>\n",
    "Test loss 0.341 <br>\n",
    "Training loss 0.245 <br>"
   ]
  },
  {
   "cell_type": "markdown",
   "metadata": {
    "collapsed": true
   },
   "source": []
  },
  {
   "cell_type": "code",
   "execution_count": null,
   "metadata": {},
   "outputs": [],
   "source": []
  },
  {
   "cell_type": "code",
   "execution_count": null,
   "metadata": {},
   "outputs": [],
   "source": []
  }
 ],
 "metadata": {
  "kernelspec": {
   "display_name": "Python 3",
   "language": "python",
   "name": "python3"
  },
  "language_info": {
   "codemirror_mode": {
    "name": "ipython",
    "version": 3
   },
   "file_extension": ".py",
   "mimetype": "text/x-python",
   "name": "python",
   "nbconvert_exporter": "python",
   "pygments_lexer": "ipython3",
   "version": "3.7.3"
  }
 },
 "nbformat": 4,
 "nbformat_minor": 2
}
