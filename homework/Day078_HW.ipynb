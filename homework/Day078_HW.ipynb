{
 "cells": [
  {
   "cell_type": "markdown",
   "metadata": {},
   "source": [
    "## Work\n",
    "1. 請嘗試將 preproc_x 替換成以每筆資料的 min/max 進行標準化至 -1 ~ 1 間，再進行訓練\n",
    "2. 請嘗試將 mlp 疊更深 (e.g 5~10 層)，進行訓練後觀察 learning curve 的走勢\n",
    "3. (optional) 請改用 GPU 進行訓練 (如果你有 GPU 的話)，比較使用 CPU 與 GPU 的訓練速度"
   ]
  },
  {
   "cell_type": "code",
   "execution_count": 1,
   "metadata": {},
   "outputs": [
    {
     "name": "stderr",
     "output_type": "stream",
     "text": [
      "'nvidia-smi' 不是內部或外部命令、可執行的程式或批次檔。\n"
     ]
    }
   ],
   "source": [
    "## \n",
    "\"\"\"\n",
    "Your code here (optional)\n",
    "確認硬體資源\n",
    "\"\"\"\n",
    "!nvidia-smi"
   ]
  },
  {
   "cell_type": "code",
   "execution_count": 2,
   "metadata": {},
   "outputs": [
    {
     "name": "stderr",
     "output_type": "stream",
     "text": [
      "Using TensorFlow backend.\n"
     ]
    }
   ],
   "source": [
    "import os\n",
    "import keras\n",
    "\n",
    "# 請嘗試設定 GPU：os.environ\n"
   ]
  },
  {
   "cell_type": "code",
   "execution_count": 5,
   "metadata": {},
   "outputs": [],
   "source": [
    "train, test = keras.datasets.cifar10.load_data()"
   ]
  },
  {
   "cell_type": "code",
   "execution_count": 22,
   "metadata": {},
   "outputs": [],
   "source": [
    "## 資料前處理\n",
    "\"\"\"\n",
    "Your code here\n",
    "\"\"\"\n",
    "\n",
    "def preproc_x(x, flatten=True):\n",
    "    x = x / 255.\n",
    "    if flatten:\n",
    "        x = x.reshape((len(x), -1))\n",
    "    return x\n",
    "\n",
    "def preproc_y(y, num_classes=10):\n",
    "    if y.shape[-1] == 1:\n",
    "        y = keras.utils.to_categorical(y, num_classes)\n",
    "    return y  "
   ]
  },
  {
   "cell_type": "code",
   "execution_count": 23,
   "metadata": {},
   "outputs": [],
   "source": [
    "x_train, y_train = train\n",
    "x_test, y_test = test\n",
    "\n",
    "# Preproc the inputs\n",
    "x_train = preproc_x(x_train)\n",
    "x_test = preproc_x(x_test)\n",
    "\n",
    "# Preprc the outputs\n",
    "y_train = preproc_y(y_train)\n",
    "y_test = preproc_y(y_test)"
   ]
  },
  {
   "cell_type": "code",
   "execution_count": 25,
   "metadata": {},
   "outputs": [
    {
     "name": "stdout",
     "output_type": "stream",
     "text": [
      "Model: \"model_1\"\n",
      "_________________________________________________________________\n",
      "Layer (type)                 Output Shape              Param #   \n",
      "=================================================================\n",
      "input_1 (InputLayer)         (None, 3072)              0         \n",
      "_________________________________________________________________\n",
      "hidden_layer1 (Dense)        (None, 512)               1573376   \n",
      "_________________________________________________________________\n",
      "hidden_layer2 (Dense)        (None, 256)               131328    \n",
      "_________________________________________________________________\n",
      "hidden_layer3 (Dense)        (None, 128)               32896     \n",
      "_________________________________________________________________\n",
      "hidden_layer4 (Dense)        (None, 64)                8256      \n",
      "_________________________________________________________________\n",
      "hidden_layer5 (Dense)        (None, 32)                2080      \n",
      "_________________________________________________________________\n",
      "output (Dense)               (None, 10)                330       \n",
      "=================================================================\n",
      "Total params: 1,748,266\n",
      "Trainable params: 1,748,266\n",
      "Non-trainable params: 0\n",
      "_________________________________________________________________\n"
     ]
    }
   ],
   "source": [
    "\"\"\"Code Here\n",
    "建立你的神經網路\n",
    "\"\"\"\n",
    "def build_mlp(input_shape, output_units=10, num_neurons=[512, 256, 128,64,32]):\n",
    "    input_layer = keras.layers.Input(input_shape)\n",
    "    \n",
    "    for i, n_units in enumerate(num_neurons):\n",
    "        if i == 0:\n",
    "            x = keras.layers.Dense(units=n_units, activation=\"relu\", name=\"hidden_layer\"+str(i+1))(input_layer)\n",
    "        else:\n",
    "            x = keras.layers.Dense(units=n_units, activation=\"relu\", name=\"hidden_layer\"+str(i+1))(x)\n",
    "    \n",
    "    out = keras.layers.Dense(units=output_units, activation=\"softmax\", name=\"output\")(x)\n",
    "    \n",
    "    model = keras.models.Model(inputs=[input_layer], outputs=[out])\n",
    "    return model\n",
    "model = build_mlp(input_shape=x_train.shape[1:])\n",
    "model.summary()"
   ]
  },
  {
   "cell_type": "code",
   "execution_count": 26,
   "metadata": {},
   "outputs": [],
   "source": [
    "## 超參數設定\n",
    "LEARNING_RATE = 0.001\n",
    "EPOCHS = 100\n",
    "BATCH_SIZE = 256"
   ]
  },
  {
   "cell_type": "code",
   "execution_count": 27,
   "metadata": {},
   "outputs": [],
   "source": [
    "optimizer = keras.optimizers.Adam(lr=LEARNING_RATE)\n",
    "model.compile(loss=\"categorical_crossentropy\", metrics=[\"accuracy\"], optimizer=optimizer)"
   ]
  },
  {
   "cell_type": "code",
   "execution_count": 28,
   "metadata": {},
   "outputs": [
    {
     "name": "stdout",
     "output_type": "stream",
     "text": [
      "WARNING:tensorflow:From D:\\Anaconda\\lib\\site-packages\\keras\\backend\\tensorflow_backend.py:422: The name tf.global_variables is deprecated. Please use tf.compat.v1.global_variables instead.\n",
      "\n",
      "Train on 50000 samples, validate on 10000 samples\n",
      "Epoch 1/100\n",
      "50000/50000 [==============================] - 10s 197us/step - loss: 1.9820 - accuracy: 0.2662 - val_loss: 1.7906 - val_accuracy: 0.3569\n",
      "Epoch 2/100\n",
      "50000/50000 [==============================] - 10s 200us/step - loss: 1.7547 - accuracy: 0.3683 - val_loss: 1.6719 - val_accuracy: 0.4010\n",
      "Epoch 3/100\n",
      "50000/50000 [==============================] - 7s 146us/step - loss: 1.6591 - accuracy: 0.4050 - val_loss: 1.6359 - val_accuracy: 0.4179\n",
      "Epoch 4/100\n",
      "50000/50000 [==============================] - 7s 139us/step - loss: 1.5961 - accuracy: 0.4276 - val_loss: 1.5791 - val_accuracy: 0.4384\n",
      "Epoch 5/100\n",
      "50000/50000 [==============================] - 9s 183us/step - loss: 1.5392 - accuracy: 0.4477 - val_loss: 1.5622 - val_accuracy: 0.4387\n",
      "Epoch 6/100\n",
      "50000/50000 [==============================] - 10s 191us/step - loss: 1.5041 - accuracy: 0.4599 - val_loss: 1.5278 - val_accuracy: 0.4598\n",
      "Epoch 7/100\n",
      "50000/50000 [==============================] - 7s 141us/step - loss: 1.4642 - accuracy: 0.4745 - val_loss: 1.5050 - val_accuracy: 0.4638\n",
      "Epoch 8/100\n",
      "50000/50000 [==============================] - 7s 140us/step - loss: 1.4320 - accuracy: 0.4896 - val_loss: 1.4957 - val_accuracy: 0.4667\n",
      "Epoch 9/100\n",
      "50000/50000 [==============================] - 8s 167us/step - loss: 1.4043 - accuracy: 0.4981 - val_loss: 1.4785 - val_accuracy: 0.4729\n",
      "Epoch 10/100\n",
      "50000/50000 [==============================] - 12s 241us/step - loss: 1.3890 - accuracy: 0.5036 - val_loss: 1.4378 - val_accuracy: 0.4896\n",
      "Epoch 11/100\n",
      "50000/50000 [==============================] - 8s 165us/step - loss: 1.3664 - accuracy: 0.5122 - val_loss: 1.4328 - val_accuracy: 0.4914\n",
      "Epoch 12/100\n",
      "50000/50000 [==============================] - 8s 160us/step - loss: 1.3403 - accuracy: 0.5209 - val_loss: 1.4445 - val_accuracy: 0.4829\n",
      "Epoch 13/100\n",
      "50000/50000 [==============================] - 8s 160us/step - loss: 1.3152 - accuracy: 0.5324 - val_loss: 1.3813 - val_accuracy: 0.5090\n",
      "Epoch 14/100\n",
      "50000/50000 [==============================] - 8s 159us/step - loss: 1.2977 - accuracy: 0.5395 - val_loss: 1.4016 - val_accuracy: 0.5022\n",
      "Epoch 15/100\n",
      "50000/50000 [==============================] - 8s 158us/step - loss: 1.2700 - accuracy: 0.5491 - val_loss: 1.3691 - val_accuracy: 0.5127\n",
      "Epoch 16/100\n",
      "50000/50000 [==============================] - 8s 158us/step - loss: 1.2596 - accuracy: 0.5496 - val_loss: 1.4038 - val_accuracy: 0.5067\n",
      "Epoch 17/100\n",
      "50000/50000 [==============================] - 8s 159us/step - loss: 1.2320 - accuracy: 0.5617 - val_loss: 1.4359 - val_accuracy: 0.4923\n",
      "Epoch 18/100\n",
      "50000/50000 [==============================] - 8s 160us/step - loss: 1.2209 - accuracy: 0.5665 - val_loss: 1.4247 - val_accuracy: 0.5054\n",
      "Epoch 19/100\n",
      "50000/50000 [==============================] - 8s 164us/step - loss: 1.1996 - accuracy: 0.5723 - val_loss: 1.4005 - val_accuracy: 0.4976\n",
      "Epoch 20/100\n",
      "50000/50000 [==============================] - 8s 160us/step - loss: 1.1647 - accuracy: 0.5839 - val_loss: 1.3924 - val_accuracy: 0.5163\n",
      "Epoch 21/100\n",
      "50000/50000 [==============================] - 8s 158us/step - loss: 1.1612 - accuracy: 0.5857 - val_loss: 1.4317 - val_accuracy: 0.4979\n",
      "Epoch 22/100\n",
      "50000/50000 [==============================] - 8s 158us/step - loss: 1.1383 - accuracy: 0.5934 - val_loss: 1.3727 - val_accuracy: 0.5209\n",
      "Epoch 23/100\n",
      "50000/50000 [==============================] - 8s 158us/step - loss: 1.1168 - accuracy: 0.6010 - val_loss: 1.3881 - val_accuracy: 0.5143\n",
      "Epoch 24/100\n",
      "50000/50000 [==============================] - 8s 160us/step - loss: 1.1036 - accuracy: 0.6063 - val_loss: 1.4045 - val_accuracy: 0.5155\n",
      "Epoch 25/100\n",
      "50000/50000 [==============================] - 8s 159us/step - loss: 1.0902 - accuracy: 0.6113 - val_loss: 1.3790 - val_accuracy: 0.5194\n",
      "Epoch 26/100\n",
      "50000/50000 [==============================] - 8s 159us/step - loss: 1.0659 - accuracy: 0.6191 - val_loss: 1.4647 - val_accuracy: 0.5032\n",
      "Epoch 27/100\n",
      "50000/50000 [==============================] - 8s 158us/step - loss: 1.0549 - accuracy: 0.6229 - val_loss: 1.3981 - val_accuracy: 0.5218\n",
      "Epoch 28/100\n",
      "50000/50000 [==============================] - 8s 157us/step - loss: 1.0375 - accuracy: 0.6285 - val_loss: 1.3982 - val_accuracy: 0.5166\n",
      "Epoch 29/100\n",
      "50000/50000 [==============================] - 8s 160us/step - loss: 1.0173 - accuracy: 0.6366 - val_loss: 1.4159 - val_accuracy: 0.5144\n",
      "Epoch 30/100\n",
      "50000/50000 [==============================] - 8s 159us/step - loss: 1.0026 - accuracy: 0.6411 - val_loss: 1.4503 - val_accuracy: 0.5100\n",
      "Epoch 31/100\n",
      "50000/50000 [==============================] - 8s 159us/step - loss: 0.9895 - accuracy: 0.6471 - val_loss: 1.4258 - val_accuracy: 0.5256\n",
      "Epoch 32/100\n",
      "50000/50000 [==============================] - 8s 158us/step - loss: 0.9662 - accuracy: 0.6542 - val_loss: 1.4084 - val_accuracy: 0.5264\n",
      "Epoch 33/100\n",
      "50000/50000 [==============================] - 8s 160us/step - loss: 0.9560 - accuracy: 0.6584 - val_loss: 1.4565 - val_accuracy: 0.5174\n",
      "Epoch 34/100\n",
      "50000/50000 [==============================] - 8s 160us/step - loss: 0.9312 - accuracy: 0.6648 - val_loss: 1.4202 - val_accuracy: 0.5247\n",
      "Epoch 35/100\n",
      "50000/50000 [==============================] - 8s 157us/step - loss: 0.9307 - accuracy: 0.6669 - val_loss: 1.4602 - val_accuracy: 0.5192\n",
      "Epoch 36/100\n",
      "50000/50000 [==============================] - 8s 159us/step - loss: 0.9145 - accuracy: 0.6713 - val_loss: 1.4966 - val_accuracy: 0.5081\n",
      "Epoch 37/100\n",
      "50000/50000 [==============================] - 8s 158us/step - loss: 0.8942 - accuracy: 0.6786 - val_loss: 1.5022 - val_accuracy: 0.5177\n",
      "Epoch 38/100\n",
      "50000/50000 [==============================] - 8s 159us/step - loss: 0.8873 - accuracy: 0.6820 - val_loss: 1.4933 - val_accuracy: 0.5267\n",
      "Epoch 39/100\n",
      "50000/50000 [==============================] - 8s 158us/step - loss: 0.8645 - accuracy: 0.6916 - val_loss: 1.5220 - val_accuracy: 0.5171\n",
      "Epoch 40/100\n",
      "50000/50000 [==============================] - 8s 160us/step - loss: 0.8459 - accuracy: 0.6979 - val_loss: 1.5625 - val_accuracy: 0.5092\n",
      "Epoch 41/100\n",
      "50000/50000 [==============================] - 8s 159us/step - loss: 0.8419 - accuracy: 0.6982 - val_loss: 1.5475 - val_accuracy: 0.5237\n",
      "Epoch 42/100\n",
      "50000/50000 [==============================] - 8s 161us/step - loss: 0.8174 - accuracy: 0.7085 - val_loss: 1.6081 - val_accuracy: 0.5232\n",
      "Epoch 43/100\n",
      "50000/50000 [==============================] - 8s 159us/step - loss: 0.8116 - accuracy: 0.7101 - val_loss: 1.5977 - val_accuracy: 0.5187\n",
      "Epoch 44/100\n",
      "50000/50000 [==============================] - 8s 161us/step - loss: 0.8011 - accuracy: 0.7154 - val_loss: 1.5890 - val_accuracy: 0.5191\n",
      "Epoch 45/100\n",
      "50000/50000 [==============================] - 8s 159us/step - loss: 0.7819 - accuracy: 0.7190 - val_loss: 1.6054 - val_accuracy: 0.5273\n",
      "Epoch 46/100\n",
      "50000/50000 [==============================] - 8s 159us/step - loss: 0.7656 - accuracy: 0.7262 - val_loss: 1.6628 - val_accuracy: 0.5103\n",
      "Epoch 47/100\n",
      "50000/50000 [==============================] - 8s 158us/step - loss: 0.7580 - accuracy: 0.7281 - val_loss: 1.6300 - val_accuracy: 0.5159\n",
      "Epoch 48/100\n",
      "50000/50000 [==============================] - 8s 159us/step - loss: 0.7418 - accuracy: 0.7328 - val_loss: 1.6907 - val_accuracy: 0.5085\n",
      "Epoch 49/100\n",
      "50000/50000 [==============================] - 8s 160us/step - loss: 0.7341 - accuracy: 0.7349 - val_loss: 1.6996 - val_accuracy: 0.5138\n",
      "Epoch 50/100\n",
      "50000/50000 [==============================] - 8s 159us/step - loss: 0.7212 - accuracy: 0.7410 - val_loss: 1.7658 - val_accuracy: 0.5027\n",
      "Epoch 51/100\n",
      "50000/50000 [==============================] - 8s 158us/step - loss: 0.7039 - accuracy: 0.7469 - val_loss: 1.7559 - val_accuracy: 0.5101\n",
      "Epoch 52/100\n",
      "50000/50000 [==============================] - 8s 158us/step - loss: 0.6889 - accuracy: 0.7534 - val_loss: 1.7685 - val_accuracy: 0.5085\n",
      "Epoch 53/100\n",
      "50000/50000 [==============================] - 8s 158us/step - loss: 0.6836 - accuracy: 0.7550 - val_loss: 1.7579 - val_accuracy: 0.5147\n",
      "Epoch 54/100\n"
     ]
    },
    {
     "name": "stdout",
     "output_type": "stream",
     "text": [
      "50000/50000 [==============================] - 8s 155us/step - loss: 0.6804 - accuracy: 0.7549 - val_loss: 1.8266 - val_accuracy: 0.5029\n",
      "Epoch 55/100\n",
      "50000/50000 [==============================] - 8s 157us/step - loss: 0.6647 - accuracy: 0.7622 - val_loss: 1.7610 - val_accuracy: 0.5169\n",
      "Epoch 56/100\n",
      "50000/50000 [==============================] - 8s 156us/step - loss: 0.6633 - accuracy: 0.7626 - val_loss: 1.8298 - val_accuracy: 0.5062\n",
      "Epoch 57/100\n",
      "50000/50000 [==============================] - 8s 163us/step - loss: 0.6489 - accuracy: 0.7675 - val_loss: 1.8388 - val_accuracy: 0.5088\n",
      "Epoch 58/100\n",
      "50000/50000 [==============================] - 8s 156us/step - loss: 0.6230 - accuracy: 0.7762 - val_loss: 1.9361 - val_accuracy: 0.5021\n",
      "Epoch 59/100\n",
      "50000/50000 [==============================] - 8s 158us/step - loss: 0.6269 - accuracy: 0.7742 - val_loss: 1.9178 - val_accuracy: 0.5166\n",
      "Epoch 60/100\n",
      "50000/50000 [==============================] - 8s 156us/step - loss: 0.6159 - accuracy: 0.7804 - val_loss: 1.9680 - val_accuracy: 0.5097\n",
      "Epoch 61/100\n",
      "50000/50000 [==============================] - 8s 156us/step - loss: 0.5922 - accuracy: 0.7891 - val_loss: 1.9600 - val_accuracy: 0.5128\n",
      "Epoch 62/100\n",
      "50000/50000 [==============================] - 8s 157us/step - loss: 0.6108 - accuracy: 0.7828 - val_loss: 1.9655 - val_accuracy: 0.4984\n",
      "Epoch 63/100\n",
      "50000/50000 [==============================] - 8s 160us/step - loss: 0.5897 - accuracy: 0.7895 - val_loss: 1.9870 - val_accuracy: 0.5069\n",
      "Epoch 64/100\n",
      "50000/50000 [==============================] - 8s 156us/step - loss: 0.5784 - accuracy: 0.7938 - val_loss: 2.0447 - val_accuracy: 0.5033\n",
      "Epoch 65/100\n",
      "50000/50000 [==============================] - 8s 157us/step - loss: 0.5689 - accuracy: 0.7961 - val_loss: 2.0405 - val_accuracy: 0.5087\n",
      "Epoch 66/100\n",
      "50000/50000 [==============================] - 8s 156us/step - loss: 0.5543 - accuracy: 0.8016 - val_loss: 2.1139 - val_accuracy: 0.5051\n",
      "Epoch 67/100\n",
      "50000/50000 [==============================] - 8s 157us/step - loss: 0.5570 - accuracy: 0.8009 - val_loss: 2.1534 - val_accuracy: 0.5050\n",
      "Epoch 68/100\n",
      "50000/50000 [==============================] - 8s 156us/step - loss: 0.5453 - accuracy: 0.8060 - val_loss: 2.0969 - val_accuracy: 0.4975\n",
      "Epoch 69/100\n",
      "50000/50000 [==============================] - 8s 157us/step - loss: 0.5359 - accuracy: 0.8084 - val_loss: 2.1426 - val_accuracy: 0.5000\n",
      "Epoch 70/100\n",
      "50000/50000 [==============================] - 8s 156us/step - loss: 0.5189 - accuracy: 0.8154 - val_loss: 2.1673 - val_accuracy: 0.5002\n",
      "Epoch 71/100\n",
      "50000/50000 [==============================] - 8s 158us/step - loss: 0.5067 - accuracy: 0.8199 - val_loss: 2.2177 - val_accuracy: 0.5002\n",
      "Epoch 72/100\n",
      "50000/50000 [==============================] - 8s 158us/step - loss: 0.5166 - accuracy: 0.8154 - val_loss: 2.2778 - val_accuracy: 0.4943\n",
      "Epoch 73/100\n",
      "50000/50000 [==============================] - 8s 157us/step - loss: 0.5045 - accuracy: 0.8204 - val_loss: 2.2982 - val_accuracy: 0.4984\n",
      "Epoch 74/100\n",
      "50000/50000 [==============================] - 8s 156us/step - loss: 0.5084 - accuracy: 0.8163 - val_loss: 2.3029 - val_accuracy: 0.5044\n",
      "Epoch 75/100\n",
      "50000/50000 [==============================] - 8s 158us/step - loss: 0.4900 - accuracy: 0.8252 - val_loss: 2.3440 - val_accuracy: 0.5005\n",
      "Epoch 76/100\n",
      "50000/50000 [==============================] - 8s 158us/step - loss: 0.4825 - accuracy: 0.8278 - val_loss: 2.4512 - val_accuracy: 0.5031\n",
      "Epoch 77/100\n",
      "50000/50000 [==============================] - 8s 157us/step - loss: 0.4861 - accuracy: 0.8264 - val_loss: 2.3595 - val_accuracy: 0.5042\n",
      "Epoch 78/100\n",
      "50000/50000 [==============================] - 8s 159us/step - loss: 0.4640 - accuracy: 0.8354 - val_loss: 2.3767 - val_accuracy: 0.5057\n",
      "Epoch 79/100\n",
      "50000/50000 [==============================] - 8s 156us/step - loss: 0.4606 - accuracy: 0.8356 - val_loss: 2.4951 - val_accuracy: 0.4992\n",
      "Epoch 80/100\n",
      "50000/50000 [==============================] - 8s 156us/step - loss: 0.4758 - accuracy: 0.8299 - val_loss: 2.4507 - val_accuracy: 0.4950\n",
      "Epoch 81/100\n",
      "50000/50000 [==============================] - 8s 158us/step - loss: 0.4518 - accuracy: 0.8390 - val_loss: 2.5223 - val_accuracy: 0.4860\n",
      "Epoch 82/100\n",
      "50000/50000 [==============================] - 8s 160us/step - loss: 0.4560 - accuracy: 0.8373 - val_loss: 2.4481 - val_accuracy: 0.4959\n",
      "Epoch 83/100\n",
      "50000/50000 [==============================] - 8s 158us/step - loss: 0.4452 - accuracy: 0.8407 - val_loss: 2.5071 - val_accuracy: 0.4961\n",
      "Epoch 84/100\n",
      "50000/50000 [==============================] - 8s 157us/step - loss: 0.4483 - accuracy: 0.8396 - val_loss: 2.5883 - val_accuracy: 0.5009\n",
      "Epoch 85/100\n",
      "50000/50000 [==============================] - 9s 173us/step - loss: 0.4441 - accuracy: 0.8397 - val_loss: 2.5938 - val_accuracy: 0.5001\n",
      "Epoch 86/100\n",
      "50000/50000 [==============================] - 9s 183us/step - loss: 0.4113 - accuracy: 0.8536 - val_loss: 2.6741 - val_accuracy: 0.4961\n",
      "Epoch 87/100\n",
      "50000/50000 [==============================] - 8s 159us/step - loss: 0.4119 - accuracy: 0.8513 - val_loss: 2.5737 - val_accuracy: 0.4969\n",
      "Epoch 88/100\n",
      "50000/50000 [==============================] - 8s 158us/step - loss: 0.4088 - accuracy: 0.8543 - val_loss: 2.6847 - val_accuracy: 0.4986\n",
      "Epoch 89/100\n",
      "50000/50000 [==============================] - 8s 156us/step - loss: 0.4217 - accuracy: 0.8500 - val_loss: 2.6066 - val_accuracy: 0.5000\n",
      "Epoch 90/100\n",
      "50000/50000 [==============================] - 8s 159us/step - loss: 0.4078 - accuracy: 0.8533 - val_loss: 2.7086 - val_accuracy: 0.4950\n",
      "Epoch 91/100\n",
      "50000/50000 [==============================] - 8s 156us/step - loss: 0.4219 - accuracy: 0.8483 - val_loss: 2.6772 - val_accuracy: 0.4912\n",
      "Epoch 92/100\n",
      "50000/50000 [==============================] - 8s 159us/step - loss: 0.4121 - accuracy: 0.8518 - val_loss: 2.7675 - val_accuracy: 0.4995\n",
      "Epoch 93/100\n",
      "50000/50000 [==============================] - 8s 159us/step - loss: 0.3880 - accuracy: 0.8606 - val_loss: 2.7001 - val_accuracy: 0.4896\n",
      "Epoch 94/100\n",
      "50000/50000 [==============================] - 8s 158us/step - loss: 0.3844 - accuracy: 0.8622 - val_loss: 2.8939 - val_accuracy: 0.4932\n",
      "Epoch 95/100\n",
      "50000/50000 [==============================] - 8s 163us/step - loss: 0.3731 - accuracy: 0.8677 - val_loss: 2.9562 - val_accuracy: 0.4914\n",
      "Epoch 96/100\n",
      "50000/50000 [==============================] - 8s 157us/step - loss: 0.3646 - accuracy: 0.8691 - val_loss: 3.0254 - val_accuracy: 0.4863\n",
      "Epoch 97/100\n",
      "50000/50000 [==============================] - 8s 158us/step - loss: 0.3675 - accuracy: 0.8694 - val_loss: 2.9683 - val_accuracy: 0.4928\n",
      "Epoch 98/100\n",
      "50000/50000 [==============================] - 8s 157us/step - loss: 0.3718 - accuracy: 0.8681 - val_loss: 2.8524 - val_accuracy: 0.4902\n",
      "Epoch 99/100\n",
      "50000/50000 [==============================] - 8s 158us/step - loss: 0.3747 - accuracy: 0.8681 - val_loss: 3.0015 - val_accuracy: 0.4880\n",
      "Epoch 100/100\n",
      "50000/50000 [==============================] - 8s 157us/step - loss: 0.3596 - accuracy: 0.8714 - val_loss: 2.9798 - val_accuracy: 0.4824\n"
     ]
    },
    {
     "data": {
      "text/plain": [
       "<keras.callbacks.callbacks.History at 0x1c5da080668>"
      ]
     },
     "execution_count": 28,
     "metadata": {},
     "output_type": "execute_result"
    }
   ],
   "source": [
    "model.fit(x_train, y_train, \n",
    "          epochs=EPOCHS, \n",
    "          batch_size=BATCH_SIZE, \n",
    "          validation_data=(x_test, y_test), \n",
    "          shuffle=True)"
   ]
  },
  {
   "cell_type": "code",
   "execution_count": 30,
   "metadata": {},
   "outputs": [
    {
     "data": {
      "image/png": "[encoded data removed]",
      "text/plain": [
       "<Figure size 432x288 with 1 Axes>"
      ]
     },
     "metadata": {
      "needs_background": "light"
     },
     "output_type": "display_data"
    },
    {
     "data": {
      "image/png": "[encoded data removed]",
      "text/plain": [
       "<Figure size 432x288 with 1 Axes>"
      ]
     },
     "metadata": {
      "needs_background": "light"
     },
     "output_type": "display_data"
    }
   ],
   "source": [
    "import matplotlib.pyplot as plt\n",
    "\n",
    "\n",
    "train_loss = model.history.history[\"loss\"]\n",
    "valid_loss = model.history.history[\"val_loss\"]\n",
    "\n",
    "train_acc = model.history.history[\"accuracy\"]\n",
    "valid_acc = model.history.history[\"val_accuracy\"]\n",
    "\n",
    "plt.plot(range(len(train_loss)), train_loss, label=\"train loss\")\n",
    "plt.plot(range(len(valid_loss)), valid_loss, label=\"valid loss\")\n",
    "plt.legend()\n",
    "plt.title(\"Loss\")\n",
    "plt.show()\n",
    "\n",
    "plt.plot(range(len(train_acc)), train_acc, label=\"train accuracy\")\n",
    "plt.plot(range(len(valid_acc)), valid_acc, label=\"valid accuracy\")\n",
    "plt.legend()\n",
    "plt.title(\"Accuracy\")\n",
    "plt.show()"
   ]
  },
  {
   "cell_type": "code",
   "execution_count": null,
   "metadata": {},
   "outputs": [],
   "source": []
  },
  {
   "cell_type": "code",
   "execution_count": null,
   "metadata": {},
   "outputs": [],
   "source": []
  }
 ],
 "metadata": {
  "kernelspec": {
   "display_name": "Python 3",
   "language": "python",
   "name": "python3"
  },
  "language_info": {
   "codemirror_mode": {
    "name": "ipython",
    "version": 3
   },
   "file_extension": ".py",
   "mimetype": "text/x-python",
   "name": "python",
   "nbconvert_exporter": "python",
   "pygments_lexer": "ipython3",
   "version": "3.7.3"
  }
 },
 "nbformat": 4,
 "nbformat_minor": 2
}
