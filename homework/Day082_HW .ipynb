{
 "cells": [
  {
   "cell_type": "markdown",
   "metadata": {},
   "source": [
    "## Work\n",
    "1. 請比較使用不同層數以及不同 Dropout rate 對訓練的效果\n",
    "2. 將 optimizer 改成使用 Adam 並加上適當的 dropout rate 檢視結果"
   ]
  },
  {
   "cell_type": "code",
   "execution_count": 7,
   "metadata": {},
   "outputs": [],
   "source": [
    "import os\n",
    "import keras\n",
    "import itertools\n",
    "# Disable GPU\n",
    "os.environ[\"CUDA_VISIBLE_DEVICES\"] = \"\""
   ]
  },
  {
   "cell_type": "code",
   "execution_count": 8,
   "metadata": {},
   "outputs": [],
   "source": [
    "train, test = keras.datasets.cifar10.load_data()"
   ]
  },
  {
   "cell_type": "code",
   "execution_count": 9,
   "metadata": {},
   "outputs": [],
   "source": [
    "## 資料前處理\n",
    "def preproc_x(x, flatten=True):\n",
    "    x = x / 255.\n",
    "    if flatten:\n",
    "        x = x.reshape((len(x), -1))\n",
    "    return x\n",
    "\n",
    "def preproc_y(y, num_classes=10):\n",
    "    if y.shape[-1] == 1:\n",
    "        y = keras.utils.to_categorical(y, num_classes)\n",
    "    return y    "
   ]
  },
  {
   "cell_type": "code",
   "execution_count": 10,
   "metadata": {},
   "outputs": [],
   "source": [
    "x_train, y_train = train\n",
    "x_test, y_test = test\n",
    "\n",
    "# Preproc the inputs\n",
    "x_train = preproc_x(x_train)\n",
    "x_test = preproc_x(x_test)\n",
    "\n",
    "# Preprc the outputs\n",
    "y_train = preproc_y(y_train)\n",
    "y_test = preproc_y(y_test)"
   ]
  },
  {
   "cell_type": "code",
   "execution_count": 11,
   "metadata": {},
   "outputs": [],
   "source": [
    "\n",
    "from keras.layers import Dropout\n",
    "\n",
    "\"\"\"\n",
    "建立神經網路，並加入 dropout layer\n",
    "\"\"\"\n",
    "def build_mlp(input_shape, output_units=10, num_neurons=[512, 256, 128], drp_ratio=0.2):\n",
    "    input_layer = keras.layers.Input(input_shape)\n",
    "    \n",
    "    for i, n_units in enumerate(num_neurons):\n",
    "        if i == 0:\n",
    "            x = keras.layers.Dense(units=n_units, \n",
    "                                   activation=\"relu\", \n",
    "                                   name=\"hidden_layer\"+str(i+1))(input_layer)\n",
    "            x = Dropout(drp_ratio)(x)\n",
    "        else:\n",
    "            x = keras.layers.Dense(units=n_units, \n",
    "                                   activation=\"relu\", \n",
    "                                   name=\"hidden_layer\"+str(i+1))(x)\n",
    "            x = Dropout(drp_ratio)(x)\n",
    "    \n",
    "    out = keras.layers.Dense(units=output_units, activation=\"softmax\", name=\"output\")(x)\n",
    "    \n",
    "    model = keras.models.Model(inputs=[input_layer], outputs=[out])\n",
    "    return model"
   ]
  },
  {
   "cell_type": "code",
   "execution_count": 12,
   "metadata": {},
   "outputs": [],
   "source": [
    "\"\"\"Code Here\n",
    "設定超參數\n",
    "\"\"\"\n",
    "## 超參數設定\n",
    "LEARNING_RATE = 1e-3\n",
    "EPOCHS = 50\n",
    "BATCH_SIZE = 256\n",
    "MOMENTUM = 0.95\n",
    "Dropout_EXP = 0.30"
   ]
  },
  {
   "cell_type": "code",
   "execution_count": 15,
   "metadata": {
    "scrolled": true
   },
   "outputs": [
    {
     "name": "stdout",
     "output_type": "stream",
     "text": [
      "Model: \"model_2\"\n",
      "_________________________________________________________________\n",
      "Layer (type)                 Output Shape              Param #   \n",
      "=================================================================\n",
      "input_2 (InputLayer)         (None, 3072)              0         \n",
      "_________________________________________________________________\n",
      "hidden_layer1 (Dense)        (None, 512)               1573376   \n",
      "_________________________________________________________________\n",
      "dropout_4 (Dropout)          (None, 512)               0         \n",
      "_________________________________________________________________\n",
      "hidden_layer2 (Dense)        (None, 256)               131328    \n",
      "_________________________________________________________________\n",
      "dropout_5 (Dropout)          (None, 256)               0         \n",
      "_________________________________________________________________\n",
      "hidden_layer3 (Dense)        (None, 128)               32896     \n",
      "_________________________________________________________________\n",
      "dropout_6 (Dropout)          (None, 128)               0         \n",
      "_________________________________________________________________\n",
      "output (Dense)               (None, 10)                1290      \n",
      "=================================================================\n",
      "Total params: 1,738,890\n",
      "Trainable params: 1,738,890\n",
      "Non-trainable params: 0\n",
      "_________________________________________________________________\n",
      "Train on 50000 samples, validate on 10000 samples\n",
      "Epoch 1/50\n",
      "50000/50000 [==============================] - 8s 165us/step - loss: 2.0941 - accuracy: 0.2241 - val_loss: 1.8812 - val_accuracy: 0.3297\n",
      "Epoch 2/50\n",
      "50000/50000 [==============================] - 7s 147us/step - loss: 1.9249 - accuracy: 0.2921 - val_loss: 1.8180 - val_accuracy: 0.3460\n",
      "Epoch 3/50\n",
      "50000/50000 [==============================] - 7s 146us/step - loss: 1.8679 - accuracy: 0.3185 - val_loss: 1.7669 - val_accuracy: 0.3727\n",
      "Epoch 4/50\n",
      "50000/50000 [==============================] - 11s 220us/step - loss: 1.8309 - accuracy: 0.3327 - val_loss: 1.7434 - val_accuracy: 0.3731\n",
      "Epoch 5/50\n",
      "50000/50000 [==============================] - 13s 267us/step - loss: 1.8023 - accuracy: 0.3412 - val_loss: 1.7386 - val_accuracy: 0.3797\n",
      "Epoch 6/50\n",
      "50000/50000 [==============================] - 9s 172us/step - loss: 1.7826 - accuracy: 0.3553 - val_loss: 1.7036 - val_accuracy: 0.3961\n",
      "Epoch 7/50\n",
      "50000/50000 [==============================] - 8s 167us/step - loss: 1.7691 - accuracy: 0.3587 - val_loss: 1.6867 - val_accuracy: 0.4084\n",
      "Epoch 8/50\n",
      "50000/50000 [==============================] - 8s 151us/step - loss: 1.7508 - accuracy: 0.3656 - val_loss: 1.6857 - val_accuracy: 0.4120\n",
      "Epoch 9/50\n",
      "50000/50000 [==============================] - 8s 156us/step - loss: 1.7564 - accuracy: 0.3618 - val_loss: 1.6760 - val_accuracy: 0.4062\n",
      "Epoch 10/50\n",
      "50000/50000 [==============================] - 8s 161us/step - loss: 1.7302 - accuracy: 0.3730 - val_loss: 1.6394 - val_accuracy: 0.4242\n",
      "Epoch 11/50\n",
      "50000/50000 [==============================] - 9s 190us/step - loss: 1.7214 - accuracy: 0.3766 - val_loss: 1.6335 - val_accuracy: 0.4277\n",
      "Epoch 12/50\n",
      "50000/50000 [==============================] - 8s 167us/step - loss: 1.7121 - accuracy: 0.3823 - val_loss: 1.6240 - val_accuracy: 0.4247\n",
      "Epoch 13/50\n",
      "50000/50000 [==============================] - 8s 157us/step - loss: 1.7063 - accuracy: 0.3821 - val_loss: 1.6223 - val_accuracy: 0.4294\n",
      "Epoch 14/50\n",
      "50000/50000 [==============================] - 7s 148us/step - loss: 1.6928 - accuracy: 0.3888 - val_loss: 1.6305 - val_accuracy: 0.4360\n",
      "Epoch 15/50\n",
      "50000/50000 [==============================] - 7s 147us/step - loss: 1.6848 - accuracy: 0.3951 - val_loss: 1.6041 - val_accuracy: 0.4438\n",
      "Epoch 16/50\n",
      "50000/50000 [==============================] - 7s 148us/step - loss: 1.6841 - accuracy: 0.3929 - val_loss: 1.6164 - val_accuracy: 0.4294\n",
      "Epoch 17/50\n",
      "50000/50000 [==============================] - 8s 162us/step - loss: 1.6765 - accuracy: 0.3927 - val_loss: 1.5929 - val_accuracy: 0.4451\n",
      "Epoch 18/50\n",
      "50000/50000 [==============================] - 9s 180us/step - loss: 1.6560 - accuracy: 0.4045 - val_loss: 1.5855 - val_accuracy: 0.4437\n",
      "Epoch 19/50\n",
      "50000/50000 [==============================] - 9s 176us/step - loss: 1.6588 - accuracy: 0.3997 - val_loss: 1.5954 - val_accuracy: 0.4400\n",
      "Epoch 20/50\n",
      "50000/50000 [==============================] - 8s 168us/step - loss: 1.6535 - accuracy: 0.4037 - val_loss: 1.6230 - val_accuracy: 0.4386\n",
      "Epoch 21/50\n",
      "50000/50000 [==============================] - 9s 172us/step - loss: 1.6461 - accuracy: 0.4081 - val_loss: 1.6083 - val_accuracy: 0.4410\n",
      "Epoch 22/50\n",
      "50000/50000 [==============================] - 8s 170us/step - loss: 1.6435 - accuracy: 0.4095 - val_loss: 1.5842 - val_accuracy: 0.4471\n",
      "Epoch 23/50\n",
      "50000/50000 [==============================] - 8s 166us/step - loss: 1.6437 - accuracy: 0.4075 - val_loss: 1.5847 - val_accuracy: 0.4362\n",
      "Epoch 24/50\n",
      "50000/50000 [==============================] - 9s 171us/step - loss: 1.6362 - accuracy: 0.4105 - val_loss: 1.5893 - val_accuracy: 0.4398\n",
      "Epoch 25/50\n",
      "50000/50000 [==============================] - 9s 177us/step - loss: 1.6312 - accuracy: 0.4110 - val_loss: 1.5752 - val_accuracy: 0.4564\n",
      "Epoch 26/50\n",
      "50000/50000 [==============================] - 10s 193us/step - loss: 1.6231 - accuracy: 0.4144 - val_loss: 1.5945 - val_accuracy: 0.4365\n",
      "Epoch 27/50\n",
      "50000/50000 [==============================] - 9s 178us/step - loss: 1.6254 - accuracy: 0.4138 - val_loss: 1.5801 - val_accuracy: 0.4451\n",
      "Epoch 28/50\n",
      "50000/50000 [==============================] - 9s 183us/step - loss: 1.6206 - accuracy: 0.4167 - val_loss: 1.5680 - val_accuracy: 0.4574\n",
      "Epoch 29/50\n",
      "50000/50000 [==============================] - 10s 203us/step - loss: 1.6183 - accuracy: 0.4180 - val_loss: 1.5714 - val_accuracy: 0.4390\n",
      "Epoch 30/50\n",
      "50000/50000 [==============================] - 12s 233us/step - loss: 1.6084 - accuracy: 0.4208 - val_loss: 1.5557 - val_accuracy: 0.4530\n",
      "Epoch 31/50\n",
      "50000/50000 [==============================] - 11s 213us/step - loss: 1.6039 - accuracy: 0.4204 - val_loss: 1.5557 - val_accuracy: 0.4479\n",
      "Epoch 32/50\n",
      "50000/50000 [==============================] - 9s 172us/step - loss: 1.6067 - accuracy: 0.4202 - val_loss: 1.5286 - val_accuracy: 0.4622\n",
      "Epoch 33/50\n",
      "50000/50000 [==============================] - 9s 171us/step - loss: 1.6090 - accuracy: 0.4207 - val_loss: 1.5418 - val_accuracy: 0.4503\n",
      "Epoch 34/50\n",
      "50000/50000 [==============================] - 8s 168us/step - loss: 1.6020 - accuracy: 0.4231 - val_loss: 1.5405 - val_accuracy: 0.4573\n",
      "Epoch 35/50\n",
      "50000/50000 [==============================] - 8s 168us/step - loss: 1.5918 - accuracy: 0.4230 - val_loss: 1.5471 - val_accuracy: 0.4566\n",
      "Epoch 36/50\n",
      "50000/50000 [==============================] - 8s 162us/step - loss: 1.5894 - accuracy: 0.4284 - val_loss: 1.5692 - val_accuracy: 0.4481\n",
      "Epoch 37/50\n",
      "50000/50000 [==============================] - 8s 158us/step - loss: 1.5866 - accuracy: 0.4300 - val_loss: 1.5532 - val_accuracy: 0.4576\n",
      "Epoch 38/50\n",
      "50000/50000 [==============================] - 11s 218us/step - loss: 1.5860 - accuracy: 0.4316 - val_loss: 1.5317 - val_accuracy: 0.4633\n",
      "Epoch 39/50\n",
      "50000/50000 [==============================] - 9s 173us/step - loss: 1.5862 - accuracy: 0.4276 - val_loss: 1.5285 - val_accuracy: 0.4562\n",
      "Epoch 40/50\n",
      "50000/50000 [==============================] - 8s 169us/step - loss: 1.5760 - accuracy: 0.4330 - val_loss: 1.5035 - val_accuracy: 0.4733\n",
      "Epoch 41/50\n",
      "50000/50000 [==============================] - 9s 176us/step - loss: 1.5864 - accuracy: 0.4303 - val_loss: 1.5462 - val_accuracy: 0.4625\n",
      "Epoch 42/50\n",
      "50000/50000 [==============================] - 9s 170us/step - loss: 1.5803 - accuracy: 0.4334 - val_loss: 1.5150 - val_accuracy: 0.4660\n",
      "Epoch 43/50\n",
      "50000/50000 [==============================] - 8s 169us/step - loss: 1.5763 - accuracy: 0.4312 - val_loss: 1.5282 - val_accuracy: 0.4694\n",
      "Epoch 44/50\n",
      "50000/50000 [==============================] - 9s 173us/step - loss: 1.5754 - accuracy: 0.4344 - val_loss: 1.5348 - val_accuracy: 0.4620\n",
      "Epoch 45/50\n",
      "50000/50000 [==============================] - 10s 210us/step - loss: 1.5705 - accuracy: 0.4374 - val_loss: 1.5130 - val_accuracy: 0.4707\n",
      "Epoch 46/50\n",
      "50000/50000 [==============================] - 8s 168us/step - loss: 1.5707 - accuracy: 0.4378 - val_loss: 1.5246 - val_accuracy: 0.4596\n",
      "Epoch 47/50\n",
      "50000/50000 [==============================] - 7s 147us/step - loss: 1.5640 - accuracy: 0.4356 - val_loss: 1.4895 - val_accuracy: 0.4785\n",
      "Epoch 48/50\n",
      "50000/50000 [==============================] - 8s 164us/step - loss: 1.5712 - accuracy: 0.4350 - val_loss: 1.5455 - val_accuracy: 0.4555\n",
      "Epoch 49/50\n",
      "50000/50000 [==============================] - 9s 171us/step - loss: 1.5600 - accuracy: 0.4391 - val_loss: 1.5007 - val_accuracy: 0.4718\n",
      "Epoch 50/50\n",
      "50000/50000 [==============================] - 9s 170us/step - loss: 1.5648 - accuracy: 0.4408 - val_loss: 1.5143 - val_accuracy: 0.4659\n"
     ]
    }
   ],
   "source": [
    "results = {}\n",
    "\"\"\"Code Here\n",
    "撰寫你的訓練流程並將結果用 dictionary 紀錄\n",
    "\"\"\"\n",
    "model = build_mlp(input_shape=x_train.shape[1:], drp_ratio=Dropout_EXP)\n",
    "model.summary()\n",
    "optimizer = keras.optimizers.SGD(lr=LEARNING_RATE, nesterov=True, momentum=MOMENTUM)\n",
    "model.compile(loss=\"categorical_crossentropy\", metrics=[\"accuracy\"], optimizer='adam')\n",
    "\n",
    "model.fit(x_train, y_train, \n",
    "          epochs=EPOCHS, \n",
    "          batch_size=BATCH_SIZE, \n",
    "          validation_data=(x_test, y_test), \n",
    "          shuffle=True)\n",
    "\n",
    "# Collect results\n",
    "train_loss = model.history.history[\"loss\"]\n",
    "valid_loss = model.history.history[\"val_loss\"]\n",
    "train_acc = model.history.history[\"accuracy\"]\n",
    "valid_acc = model.history.history[\"val_accuracy\"]"
   ]
  },
  {
   "cell_type": "code",
   "execution_count": 16,
   "metadata": {},
   "outputs": [
    {
     "data": {
      "image/png": "[encoded data removed]",
      "text/plain": [
       "<Figure size 432x288 with 1 Axes>"
      ]
     },
     "metadata": {
      "needs_background": "light"
     },
     "output_type": "display_data"
    },
    {
     "data": {
      "image/png": "[encoded data removed]",
      "text/plain": [
       "<Figure size 432x288 with 1 Axes>"
      ]
     },
     "metadata": {
      "needs_background": "light"
     },
     "output_type": "display_data"
    }
   ],
   "source": [
    "import matplotlib.pyplot as plt\n",
    "%matplotlib inline\n",
    "\n",
    "plt.plot(range(len(train_loss)), train_loss, label=\"train loss\")\n",
    "plt.plot(range(len(valid_loss)), valid_loss, label=\"valid loss\")\n",
    "plt.legend()\n",
    "plt.title(\"Loss\")\n",
    "plt.show()\n",
    "\n",
    "plt.plot(range(len(train_acc)), train_acc, label=\"train accuracy\")\n",
    "plt.plot(range(len(valid_acc)), valid_acc, label=\"valid accuracy\")\n",
    "plt.legend()\n",
    "plt.title(\"Accuracy\")\n",
    "plt.show()"
   ]
  },
  {
   "cell_type": "code",
   "execution_count": null,
   "metadata": {},
   "outputs": [],
   "source": []
  }
 ],
 "metadata": {
  "kernelspec": {
   "display_name": "Python 3",
   "language": "python",
   "name": "python3"
  },
  "language_info": {
   "codemirror_mode": {
    "name": "ipython",
    "version": 3
   },
   "file_extension": ".py",
   "mimetype": "text/x-python",
   "name": "python",
   "nbconvert_exporter": "python",
   "pygments_lexer": "ipython3",
   "version": "3.7.3"
  }
 },
 "nbformat": 4,
 "nbformat_minor": 2
}
